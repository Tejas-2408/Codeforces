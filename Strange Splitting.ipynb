{
 "cells": [
  {
   "cell_type": "code",
   "execution_count": 2,
   "id": "449dcc6c-2d94-4340-ae94-766bb4a8e6b9",
   "metadata": {
    "scrolled": true
   },
   "outputs": [
    {
     "name": "stdin",
     "output_type": "stream",
     "text": [
      " 7\n",
      " 4\n",
      " 1 1 2 2\n",
      " 5\n",
      " 1 2 3 4 5\n",
      " 3\n",
      " 3 3 3\n",
      " 4\n",
      " 1 2 2 2\n",
      " 3\n",
      " 1 2 2\n",
      " 3\n",
      " 1 1 2\n",
      " 3\n",
      " 1 9 84\n"
     ]
    },
    {
     "data": {
      "text/plain": [
       "[[1, 1, 2, 2],\n",
       " [1, 2, 3, 4, 5],\n",
       " [3, 3, 3],\n",
       " [1, 2, 2, 2],\n",
       " [1, 2, 2],\n",
       " [1, 1, 2],\n",
       " [1, 9, 84]]"
      ]
     },
     "execution_count": 2,
     "metadata": {},
     "output_type": "execute_result"
    }
   ],
   "source": [
    "t = int(input())\n",
    "\n",
    "l= []\n",
    "\n",
    "for i in range(t):\n",
    "    n = int(input())\n",
    "    temp = list(map(int,input().split()))\n",
    "    l.append(temp)"
   ]
  },
  {
   "cell_type": "code",
   "execution_count": 14,
   "id": "4a8bf4f2-8940-4b63-b68b-dd28e9a96519",
   "metadata": {},
   "outputs": [
    {
     "name": "stdout",
     "output_type": "stream",
     "text": [
      "YES\n",
      "RBBB\n",
      "YES\n",
      "RBBBB\n",
      "NO\n",
      "YES\n",
      "RRBB\n",
      "YES\n",
      "RRB\n",
      "YES\n",
      "RBB\n",
      "YES\n",
      "RBB\n"
     ]
    }
   ],
   "source": [
    "ans = []\n",
    "\n",
    "for i in l:\n",
    "    if(i[len(i)-1]-i[0] == 0):\n",
    "        ans.append(\"NO\")\n",
    "        continue\n",
    "    ans.append(\"YES\")\n",
    "    s=\"\"\n",
    "    if i[1] == i[len(i)-1]:\n",
    "        s+=\"RR\"\n",
    "        for j in range(2,len(i)):\n",
    "            s+=\"B\"\n",
    "    else:\n",
    "        s+=\"R\"\n",
    "        for j in range(1,len(i)):\n",
    "            s = s+\"B\"\n",
    "            \n",
    "    ans.append(s)\n",
    "\n",
    "for a in ans:\n",
    "    print(a)"
   ]
  }
 ],
 "metadata": {
  "kernelspec": {
   "display_name": "Python 3 (ipykernel)",
   "language": "python",
   "name": "python3"
  },
  "language_info": {
   "codemirror_mode": {
    "name": "ipython",
    "version": 3
   },
   "file_extension": ".py",
   "mimetype": "text/x-python",
   "name": "python",
   "nbconvert_exporter": "python",
   "pygments_lexer": "ipython3",
   "version": "3.11.7"
  },
  "widgets": {
   "application/vnd.jupyter.widget-state+json": {
    "state": {},
    "version_major": 2,
    "version_minor": 0
   }
  }
 },
 "nbformat": 4,
 "nbformat_minor": 5
}
