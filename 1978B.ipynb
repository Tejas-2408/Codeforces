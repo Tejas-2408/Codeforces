{
 "cells": [
  {
   "cell_type": "code",
   "execution_count": 13,
   "id": "834df397-e649-403b-8ec7-67f992be7427",
   "metadata": {},
   "outputs": [],
   "source": [
    "import math"
   ]
  },
  {
   "cell_type": "code",
   "execution_count": 16,
   "id": "75bb8af5-9626-4cc9-8c20-d4c0d8390a6d",
   "metadata": {},
   "outputs": [],
   "source": [
    "def sol():\n",
    "    n,a,b = map(int,input().split())\n",
    "    k = min(n,abs(b-a))\n",
    "    ans=0\n",
    "    if b<=a:\n",
    "        print(a*n)\n",
    "    else:\n",
    "        ans+= ((2*b-k+1)*k)/2 + ((n-k)*a)\n",
    "        print(math.floor(ans))"
   ]
  },
  {
   "cell_type": "code",
   "execution_count": 18,
   "id": "2a988e1f-35e3-43f4-83c8-2af892ea2405",
   "metadata": {},
   "outputs": [
    {
     "name": "stdin",
     "output_type": "stream",
     "text": [
      " 1\n",
      " 999999976 999999981 999999982\n"
     ]
    },
    {
     "name": "stdout",
     "output_type": "stream",
     "text": [
      "999999957000000512\n"
     ]
    }
   ],
   "source": [
    "t = int(input())\n",
    "for _ in range(t):\n",
    "    sol()"
   ]
  },
  {
   "cell_type": "raw",
   "id": "fa37ee03-c354-4810-89e7-1960800e9c1c",
   "metadata": {},
   "source": [
    "999999976\n",
    "999999981\n",
    "999999982"
   ]
  }
 ],
 "metadata": {
  "kernelspec": {
   "display_name": "Python 3 (ipykernel)",
   "language": "python",
   "name": "python3"
  },
  "language_info": {
   "codemirror_mode": {
    "name": "ipython",
    "version": 3
   },
   "file_extension": ".py",
   "mimetype": "text/x-python",
   "name": "python",
   "nbconvert_exporter": "python",
   "pygments_lexer": "ipython3",
   "version": "3.11.7"
  },
  "widgets": {
   "application/vnd.jupyter.widget-state+json": {
    "state": {},
    "version_major": 2,
    "version_minor": 0
   }
  }
 },
 "nbformat": 4,
 "nbformat_minor": 5
}
