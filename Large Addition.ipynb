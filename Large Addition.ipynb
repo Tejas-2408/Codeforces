{
 "cells": [
  {
   "cell_type": "code",
   "execution_count": null,
   "id": "58773131-cf3f-433a-8f96-0ef6eb6516a8",
   "metadata": {},
   "outputs": [],
   "source": []
  },
  {
   "cell_type": "code",
   "execution_count": 4,
   "id": "dad32f15-8578-4df8-a64f-b8473580e9d1",
   "metadata": {},
   "outputs": [
    {
     "name": "stdin",
     "output_type": "stream",
     "text": [
      " 1\n",
      " 200\n"
     ]
    }
   ],
   "source": [
    "t = int(input())\n",
    "l=[]\n",
    "for i in range(t):\n",
    "    n = input()\n",
    "    for j in n[-1:]:\n",
    "        t = 10+int(j)\n",
    "        if t>9 & t<19:\n",
    "            continue\n",
    "        else:\n",
    "            l.append(\"No\")\n",
    "            break\n",
    "        l.append(\"Yes\")\n",
    "\n",
    "for i in l:\n",
    "    print(i)"
   ]
  }
 ],
 "metadata": {
  "kernelspec": {
   "display_name": "Python 3 (ipykernel)",
   "language": "python",
   "name": "python3"
  },
  "language_info": {
   "codemirror_mode": {
    "name": "ipython",
    "version": 3
   },
   "file_extension": ".py",
   "mimetype": "text/x-python",
   "name": "python",
   "nbconvert_exporter": "python",
   "pygments_lexer": "ipython3",
   "version": "3.11.7"
  },
  "widgets": {
   "application/vnd.jupyter.widget-state+json": {
    "state": {},
    "version_major": 2,
    "version_minor": 0
   }
  }
 },
 "nbformat": 4,
 "nbformat_minor": 5
}
