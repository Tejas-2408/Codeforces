{
 "cells": [
  {
   "cell_type": "code",
   "execution_count": 1,
   "id": "f5503af8-775b-420f-b2e6-233b6b6aced2",
   "metadata": {},
   "outputs": [
    {
     "name": "stdin",
     "output_type": "stream",
     "text": [
      " 2\n",
      " 3\n",
      " 15\n"
     ]
    },
    {
     "name": "stdout",
     "output_type": "stream",
     "text": [
      "3\n",
      "2\n"
     ]
    }
   ],
   "source": [
    "t = int(input())\n",
    "l = []\n",
    "\n",
    "for i in range(t):\n",
    "    temp = int(input())\n",
    "    l.append(temp)\n",
    "\n",
    "ans = []\n",
    "\n",
    "for i in l:\n",
    "    if i==3:\n",
    "        ans.append(3)\n",
    "    else:\n",
    "        ans.append(2)\n",
    "for i in ans:\n",
    "    print(i)"
   ]
  }
 ],
 "metadata": {
  "kernelspec": {
   "display_name": "Python 3 (ipykernel)",
   "language": "python",
   "name": "python3"
  },
  "language_info": {
   "codemirror_mode": {
    "name": "ipython",
    "version": 3
   },
   "file_extension": ".py",
   "mimetype": "text/x-python",
   "name": "python",
   "nbconvert_exporter": "python",
   "pygments_lexer": "ipython3",
   "version": "3.11.7"
  },
  "widgets": {
   "application/vnd.jupyter.widget-state+json": {
    "state": {},
    "version_major": 2,
    "version_minor": 0
   }
  }
 },
 "nbformat": 4,
 "nbformat_minor": 5
}
