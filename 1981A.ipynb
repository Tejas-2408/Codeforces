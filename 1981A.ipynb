{
 "cells": [
  {
   "cell_type": "code",
   "execution_count": 1,
   "id": "f1fdfe64-0534-4718-b0da-2af6833b9395",
   "metadata": {},
   "outputs": [],
   "source": [
    "import math"
   ]
  },
  {
   "cell_type": "code",
   "execution_count": 2,
   "id": "73880aec-3d2e-44b3-aa89-f8d50c52e602",
   "metadata": {},
   "outputs": [],
   "source": [
    "def count_prime_factors(n):\n",
    "    count = 0\n",
    "    # Check for the number of 2s that divide n\n",
    "    while n % 2 == 0:\n",
    "        count += 1\n",
    "        n = n // 2\n",
    "    \n",
    "    # Check for odd factors\n",
    "    for i in range(3, int(n**0.5) + 1, 2):\n",
    "        while n % i == 0:\n",
    "            count += 1\n",
    "            n = n // i\n",
    "    \n",
    "    # If n is a prime number greater than 2\n",
    "    if n > 2:\n",
    "        count += 1\n",
    "    \n",
    "    return count\n"
   ]
  },
  {
   "cell_type": "code",
   "execution_count": 15,
   "id": "1a7bf75e-df71-47da-aefa-b94c5a917177",
   "metadata": {},
   "outputs": [],
   "source": [
    "def primes(n):\n",
    "    return int(math.log2(n))"
   ]
  },
  {
   "cell_type": "code",
   "execution_count": 24,
   "id": "24f20bd7-81c8-45da-b89b-619ce23a98f0",
   "metadata": {},
   "outputs": [
    {
     "name": "stdin",
     "output_type": "stream",
     "text": [
      " 4\n",
      " 2 4\n",
      " 3 6\n",
      " 2 15\n",
      " 6 22\n"
     ]
    },
    {
     "name": "stdout",
     "output_type": "stream",
     "text": [
      "2.0\n",
      "2.584962500721156\n",
      "3.9068905956085187\n",
      "4.459431618637297\n"
     ]
    }
   ],
   "source": [
    "t = int(input())\n",
    "l=[]\n",
    "for i in range(t):\n",
    "    temp = list(map(int,input().split()))\n",
    "    l.append(temp)\n",
    "    \n",
    "ans = []\n",
    "for i in l:\n",
    "    ans.append(int(math.log2(i[1])))\n",
    "for i in ans:\n",
    "    print(i)"
   ]
  },
  {
   "cell_type": "code",
   "execution_count": 19,
   "id": "6233acd6-8384-4e0a-9b4b-8e897fd9f50f",
   "metadata": {},
   "outputs": [
    {
     "name": "stdout",
     "output_type": "stream",
     "text": [
      "[2, 2]\n"
     ]
    }
   ],
   "source": []
  }
 ],
 "metadata": {
  "kernelspec": {
   "display_name": "Python 3 (ipykernel)",
   "language": "python",
   "name": "python3"
  },
  "language_info": {
   "codemirror_mode": {
    "name": "ipython",
    "version": 3
   },
   "file_extension": ".py",
   "mimetype": "text/x-python",
   "name": "python",
   "nbconvert_exporter": "python",
   "pygments_lexer": "ipython3",
   "version": "3.11.7"
  },
  "widgets": {
   "application/vnd.jupyter.widget-state+json": {
    "state": {},
    "version_major": 2,
    "version_minor": 0
   }
  }
 },
 "nbformat": 4,
 "nbformat_minor": 5
}
