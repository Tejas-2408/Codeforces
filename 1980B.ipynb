{
 "cells": [
  {
   "cell_type": "code",
   "execution_count": 12,
   "id": "5f10405e-956e-46d7-a1aa-c4800f15f768",
   "metadata": {},
   "outputs": [
    {
     "name": "stdin",
     "output_type": "stream",
     "text": [
      " 3\n",
      " 5 2 2\n",
      " 4 3 3 2 3\n"
     ]
    },
    {
     "name": "stdout",
     "output_type": "stream",
     "text": [
      "Yes\n"
     ]
    },
    {
     "name": "stdin",
     "output_type": "stream",
     "text": [
      " 5 5 3\n",
      " 4 2 1 3 5\n"
     ]
    },
    {
     "name": "stdout",
     "output_type": "stream",
     "text": [
      "Yes\n"
     ]
    },
    {
     "name": "stdin",
     "output_type": "stream",
     "text": [
      " 5 5 2\n",
      " 5 2 4 1 3\n"
     ]
    },
    {
     "name": "stdout",
     "output_type": "stream",
     "text": [
      "No\n"
     ]
    }
   ],
   "source": [
    "t = int(input())\n",
    "\n",
    "for i in range(t):\n",
    "    n, f, k = map(int, input().split())\n",
    "    f -= 1\n",
    "    k -= 1\n",
    "    a = list(map(int, input().split()))\n",
    "    x = a[f]\n",
    "    a.sort(reverse=True)\n",
    "    if a[k] > x:\n",
    "        print(\"NO\")\n",
    "    elif a[k] < x:\n",
    "        print(\"YES\")\n",
    "    else:\n",
    "        print(\"YES\" if k == n - 1 or a[k + 1] < x else \"MAYBE\")\n"
   ]
  }
 ],
 "metadata": {
  "kernelspec": {
   "display_name": "Python 3 (ipykernel)",
   "language": "python",
   "name": "python3"
  },
  "language_info": {
   "codemirror_mode": {
    "name": "ipython",
    "version": 3
   },
   "file_extension": ".py",
   "mimetype": "text/x-python",
   "name": "python",
   "nbconvert_exporter": "python",
   "pygments_lexer": "ipython3",
   "version": "3.11.7"
  },
  "widgets": {
   "application/vnd.jupyter.widget-state+json": {
    "state": {},
    "version_major": 2,
    "version_minor": 0
   }
  }
 },
 "nbformat": 4,
 "nbformat_minor": 5
}
